{
 "cells": [
  {
   "cell_type": "markdown",
   "id": "cf0744da-d521-4c06-8f59-123b7bb24f7f",
   "metadata": {},
   "source": [
    "***Asssignment***"
   ]
  },
  {
   "cell_type": "code",
   "execution_count": 1,
   "id": "53934fc1-fff6-4f9a-a3f9-71ce23753a31",
   "metadata": {},
   "outputs": [],
   "source": [
    "salaries = ['20k', '40k', '50k', '60k', '35k', '89k','40k']"
   ]
  },
  {
   "cell_type": "code",
   "execution_count": 2,
   "id": "0ae6c001-6d0f-4caa-838e-1b71fb21039c",
   "metadata": {},
   "outputs": [
    {
     "data": {
      "text/plain": [
       "['20k', '40k', '50k', '60k', '35k', '89k', '40k']"
      ]
     },
     "execution_count": 2,
     "metadata": {},
     "output_type": "execute_result"
    }
   ],
   "source": [
    "salaries\n"
   ]
  },
  {
   "cell_type": "code",
   "execution_count": 4,
   "id": "a116e82f-a69d-4186-a8c5-e6dda2caefeb",
   "metadata": {},
   "outputs": [
    {
     "data": {
      "text/plain": [
       "7"
      ]
     },
     "execution_count": 4,
     "metadata": {},
     "output_type": "execute_result"
    }
   ],
   "source": [
    "1# What is the length of the salaries list.\n",
    "\n",
    "len(salaries)\n"
   ]
  },
  {
   "cell_type": "code",
   "execution_count": 6,
   "id": "18fd5050-fd43-4461-8c65-13c10cfcc1de",
   "metadata": {},
   "outputs": [
    {
     "data": {
      "text/plain": [
       "'60k'"
      ]
     },
     "execution_count": 6,
     "metadata": {},
     "output_type": "execute_result"
    }
   ],
   "source": [
    "# 2 Retrieve the third salary in the list by using index.\n",
    "salaries [3]"
   ]
  },
  {
   "cell_type": "code",
   "execution_count": 14,
   "id": "d2decf49-c9f1-462a-9bff-8f1b4b987804",
   "metadata": {},
   "outputs": [
    {
     "data": {
      "text/plain": [
       "'40k'"
      ]
     },
     "execution_count": 14,
     "metadata": {},
     "output_type": "execute_result"
    }
   ],
   "source": [
    "# 3 Extract the last salary from the list by using a negative index\n",
    "\n",
    "salaries [-6]"
   ]
  },
  {
   "cell_type": "code",
   "execution_count": 16,
   "id": "4b5afe59-93e8-49dd-9bfc-7fa2e9b5b813",
   "metadata": {},
   "outputs": [
    {
     "data": {
      "text/plain": [
       "['50k', '60k', '35k']"
      ]
     },
     "execution_count": 16,
     "metadata": {},
     "output_type": "execute_result"
    }
   ],
   "source": [
    "# 4 Slice the salaries list to get only the middle three salaries.\n",
    "salaries [2:5]"
   ]
  },
  {
   "cell_type": "code",
   "execution_count": 22,
   "id": "ef1c41cd-ccf0-41e1-8685-5c74f7d6dbbb",
   "metadata": {},
   "outputs": [],
   "source": [
    "# 5 Add a new salary to the list, ‘100k’ by using append() methodd.\n",
    "salaries.append('100')\n"
   ]
  },
  {
   "cell_type": "code",
   "execution_count": 23,
   "id": "442d4014-ccb1-4128-b3a3-db17275b6f24",
   "metadata": {},
   "outputs": [
    {
     "data": {
      "text/plain": [
       "['20k', '40k', '50k', '60k', '35k', '89k', '40k', '100', '100', '100', '100']"
      ]
     },
     "execution_count": 23,
     "metadata": {},
     "output_type": "execute_result"
    }
   ],
   "source": [
    "salaries"
   ]
  },
  {
   "cell_type": "code",
   "execution_count": 36,
   "id": "24a0032d-10e5-4146-96a4-627086f0f737",
   "metadata": {},
   "outputs": [
    {
     "ename": "IndexError",
     "evalue": "list assignment index out of range",
     "output_type": "error",
     "traceback": [
      "\u001b[1;31m---------------------------------------------------------------------------\u001b[0m",
      "\u001b[1;31mIndexError\u001b[0m                                Traceback (most recent call last)",
      "Cell \u001b[1;32mIn[36], line 3\u001b[0m\n\u001b[0;32m      1\u001b[0m \u001b[38;5;66;03m#6 Add a new salary to the list, ‘120k’ without method.\u001b[39;00m\n\u001b[1;32m----> 3\u001b[0m salaries[\u001b[38;5;241m11\u001b[39m]\u001b[38;5;241m=\u001b[39m\u001b[38;5;124m'\u001b[39m\u001b[38;5;124m120k\u001b[39m\u001b[38;5;124m'\u001b[39m\n",
      "\u001b[1;31mIndexError\u001b[0m: list assignment index out of range"
     ]
    }
   ],
   "source": [
    "#6 Add a new salary to the list, ‘120k’ without method.\n",
    "\n",
    "salaries[11]='120k'"
   ]
  },
  {
   "cell_type": "code",
   "execution_count": 34,
   "id": "a096a8b6-e41e-4a0a-b7b5-da6c882423d8",
   "metadata": {},
   "outputs": [],
   "source": [
    "# 7 Replace the third salary in the list with '55k' and print the updated list.\n",
    "\n",
    "salaries[3]='55k'"
   ]
  },
  {
   "cell_type": "code",
   "execution_count": 35,
   "id": "d24b818f-6cff-4367-9d03-bb7ded0d3e2c",
   "metadata": {},
   "outputs": [
    {
     "data": {
      "text/plain": [
       "['100', '100', '100', '55k', '40k', '89k', '35k', '60k', '50k', '40k', '20k']"
      ]
     },
     "execution_count": 35,
     "metadata": {},
     "output_type": "execute_result"
    }
   ],
   "source": [
    "salaries"
   ]
  },
  {
   "cell_type": "code",
   "execution_count": 28,
   "id": "1dbfff77-27d5-43a3-a255-41941ca02db9",
   "metadata": {},
   "outputs": [
    {
     "data": {
      "text/plain": [
       "2"
      ]
     },
     "execution_count": 28,
     "metadata": {},
     "output_type": "execute_result"
    }
   ],
   "source": [
    "#8 Count how many times '40k' appears in the list\n",
    "\n",
    "salaries.count('40k')\n"
   ]
  },
  {
   "cell_type": "code",
   "execution_count": 29,
   "id": "a6db8657-0c4a-4e90-9663-1d196222fc85",
   "metadata": {},
   "outputs": [],
   "source": [
    "#9 Reverse the order of the salaries list with method\n",
    "salaries.reverse()"
   ]
  },
  {
   "cell_type": "code",
   "execution_count": 30,
   "id": "692a925e-ac84-40e1-8e29-410b469df039",
   "metadata": {},
   "outputs": [
    {
     "data": {
      "text/plain": [
       "['100', '100', '100', '100', '40k', '89k', '35k', '60k', '50k', '40k', '20k']"
      ]
     },
     "execution_count": 30,
     "metadata": {},
     "output_type": "execute_result"
    }
   ],
   "source": [
    "salaries"
   ]
  },
  {
   "cell_type": "code",
   "execution_count": null,
   "id": "5597d0e5-76bb-475d-b875-27493c81fb23",
   "metadata": {},
   "outputs": [],
   "source": [
    "#10 Reverse the order of the salaries list without method\n",
    "salaries = salaries[::-1]"
   ]
  },
  {
   "cell_type": "code",
   "execution_count": 31,
   "id": "3dd01a48-1c36-4f24-9089-5e5c12a5de4b",
   "metadata": {},
   "outputs": [
    {
     "data": {
      "text/plain": [
       "['100', '100', '100', '100', '40k', '89k', '35k', '60k', '50k', '40k', '20k']"
      ]
     },
     "execution_count": 31,
     "metadata": {},
     "output_type": "execute_result"
    }
   ],
   "source": [
    "salaries"
   ]
  },
  {
   "cell_type": "code",
   "execution_count": null,
   "id": "9146cd82-34ee-4cc4-b428-1fc045b76ebd",
   "metadata": {},
   "outputs": [],
   "source": []
  }
 ],
 "metadata": {
  "kernelspec": {
   "display_name": "Python 3 (ipykernel)",
   "language": "python",
   "name": "python3"
  },
  "language_info": {
   "codemirror_mode": {
    "name": "ipython",
    "version": 3
   },
   "file_extension": ".py",
   "mimetype": "text/x-python",
   "name": "python",
   "nbconvert_exporter": "python",
   "pygments_lexer": "ipython3",
   "version": "3.12.7"
  }
 },
 "nbformat": 4,
 "nbformat_minor": 5
}
